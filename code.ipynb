{
 "cells": [
  {
   "cell_type": "code",
   "execution_count": null,
   "metadata": {},
   "outputs": [],
   "source": [
    "import pandas as pd\n",
    "import numpy as np\n",
    "import joblib\n",
    "import nltk\n",
    "import re\n",
    "from sklearn.model_selection import train_test_split\n",
    "from sklearn.ensemble import RandomForestClassifier\n",
    "from sklearn.metrics import accuracy_score, classification_report\n",
    "\n",
    "# Download stopwords (only needed once)\n",
    "nltk.download('stopwords')\n",
    "from nltk.corpus import stopwords\n",
    "\n",
    "# File paths\n",
    "cdr_file_path = 'data/CDR-Call-Details.csv'\n",
    "model_path = 'cdr_fraud_model.pkl'\n",
    "\n",
    "# Load CDR data\n",
    "cdr_df = pd.read_csv(cdr_file_path)\n",
    "\n",
    "# Drop unnecessary columns (keep useful features)\n",
    "cdr_df = cdr_df[['Day Mins', 'Day Calls', 'Eve Mins', 'Eve Calls', 'Night Mins', 'Night Calls', \n",
    "                 'Intl Mins', 'Intl Calls', 'CustServ Calls', 'isFraud']]\n",
    "\n",
    "# Split dataset\n",
    "X_cdr = cdr_df.drop(columns=['isFraud'])\n",
    "y_cdr = cdr_df['isFraud']\n",
    "\n",
    "# Train-test split\n",
    "X_train_cdr, X_test_cdr, y_train_cdr, y_test_cdr = train_test_split(X_cdr, y_cdr, test_size=0.2, random_state=42)\n",
    "\n",
    "# Train a Random Forest model\n",
    "rf_model = RandomForestClassifier(n_estimators=100, random_state=42)\n",
    "rf_model.fit(X_train_cdr, y_train_cdr)\n",
    "\n",
    "# Save the trained model\n",
    "joblib.dump(rf_model, model_path)\n",
    "\n",
    "# Evaluate the model\n",
    "y_pred_cdr = rf_model.predict(X_test_cdr)\n",
    "print('CDR Fraud Model Accuracy:', accuracy_score(y_test_cdr, y_pred_cdr))\n",
    "print(classification_report(y_test_cdr, y_pred_cdr))\n"
   ]
  }
 ],
 "metadata": {
  "kernelspec": {
   "display_name": "Python 3",
   "language": "python",
   "name": "python3"
  },
  "language_info": {
   "codemirror_mode": {
    "name": "ipython",
    "version": 3
   },
   "file_extension": ".py",
   "mimetype": "text/x-python",
   "name": "python",
   "nbconvert_exporter": "python",
   "pygments_lexer": "ipython3",
   "version": "3.12.4"
  }
 },
 "nbformat": 4,
 "nbformat_minor": 4
}
