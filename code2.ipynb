{
 "cells": [
  {
   "cell_type": "code",
   "execution_count": 2,
   "metadata": {},
   "outputs": [
    {
     "name": "stderr",
     "output_type": "stream",
     "text": [
      "[nltk_data] Downloading package stopwords to\n",
      "[nltk_data]     C:\\Users\\agnih\\AppData\\Roaming\\nltk_data...\n",
      "[nltk_data]   Package stopwords is already up-to-date!\n"
     ]
    }
   ],
   "source": [
    "import nltk\n",
    "from nltk.corpus import stopwords\n",
    "\n",
    "# Download stopwords if not already present\n",
    "nltk.download(\"stopwords\")\n",
    "\n",
    "# Now you can use stopwords\n",
    "stop_words = set(stopwords.words(\"english\"))\n"
   ]
  },
  {
   "cell_type": "code",
   "execution_count": 3,
   "metadata": {},
   "outputs": [],
   "source": [
    "from sklearn.svm import SVC\n",
    "import joblib\n"
   ]
  },
  {
   "cell_type": "code",
   "execution_count": 1,
   "metadata": {},
   "outputs": [],
   "source": [
    "import re  # For regular expressions\n",
    "import pandas as pd  # For handling dataframes\n",
    "import numpy as np  # For numerical operations\n",
    "import pickle  # For saving/loading models\n",
    "\n",
    "from sklearn.model_selection import train_test_split\n",
    "from sklearn.feature_extraction.text import TfidfVectorizer\n",
    "from sklearn.ensemble import VotingClassifier, RandomForestClassifier, GradientBoostingClassifier\n",
    "from sklearn.naive_bayes import MultinomialNB\n",
    "from sklearn.metrics import accuracy_score, classification_report\n"
   ]
  },
  {
   "cell_type": "code",
   "execution_count": null,
   "metadata": {},
   "outputs": [],
   "source": [
    "# Load fraud_call.file\n",
    "fraud_call_path = 'data/fraud_call.file'\n",
    "\n",
    "# Read the file (assuming tab-separated)\n",
    "try:\n",
    "    with open(fraud_call_path, 'r', encoding='utf-8') as f:\n",
    "        lines = f.readlines()\n",
    "except FileNotFoundError:\n",
    "    print(f'Error: {fraud_call_path} file not found.')\n",
    "    exit(1)\n",
    "\n",
    "# Convert to DataFrame\n",
    "texts = []\n",
    "labels = []\n",
    "\n",
    "for line in lines:\n",
    "    if not line.strip():  # Ignore empty lines\n",
    "        continue\n",
    "    parts = re.split(r'\\t|,|\\s{2,}', line.strip())  # Auto-detect separator\n",
    "    if len(parts) >= 2:  # Ensure we have at least two parts\n",
    "        labels.append(1 if parts[0].strip().lower() == 'fraud' else 0)  # Case insensitive\n",
    "        texts.append(parts[1].strip())  # Clean text\n",
    "\n",
    "spam_df = pd.DataFrame({'text': texts, 'label': labels})\n",
    "\n",
    "# Check dataset\n",
    "print(spam_df.head())\n",
    "print('Total rows:', len(spam_df))\n",
    "\n",
    "# Preprocess Text Data\n",
    "stop_words = set(stopwords.words('english'))  # Define stopwords\n",
    "\n",
    "def clean_text(text):\n",
    "    text = text.lower()\n",
    "    text = re.sub(r'\\W+', ' ', text)  # Remove special characters\n",
    "    return ' '.join([word for word in text.split() if word not in stop_words])\n",
    "\n",
    "spam_df['clean_text'] = spam_df['text'].apply(clean_text)\n",
    "\n",
    "# Initialize TfidfVectorizer\n",
    "vectorizer = TfidfVectorizer(max_features=500)\n",
    "\n",
    "# Convert text to TF-IDF features\n",
    "X_spam = vectorizer.fit_transform(spam_df['clean_text']).toarray()\n",
    "y_spam = spam_df['label']\n",
    "\n",
    "# Train-test split\n",
    "X_train_spam, X_test_spam, y_train_spam, y_test_spam = train_test_split(X_spam, y_spam, test_size=0.2, random_state=42)\n",
    "\n",
    "# Train an SVM model\n",
    "svm_model = SVC(kernel='linear')\n",
    "svm_model.fit(X_train_spam, y_train_spam)\n",
    "\n",
    "# Save the trained model & vectorizer\n",
    "joblib.dump(svm_model, 'spam_text_model.pkl')\n",
    "joblib.dump(vectorizer, 'tfidf_vectorizer.pkl')\n",
    "\n",
    "# Evaluate the model\n",
    "y_pred_spam = svm_model.predict(X_test_spam)\n",
    "print('Spam Detection Model Accuracy:', accuracy_score(y_test_spam, y_pred_spam))\n",
    "print(classification_report(y_test_spam, y_pred_spam))\n"
   ]
  }
 ],
 "metadata": {
  "kernelspec": {
   "display_name": "Python 3",
   "language": "python",
   "name": "python3"
  },
  "language_info": {
   "codemirror_mode": {
    "name": "ipython",
    "version": 3
   },
   "file_extension": ".py",
   "mimetype": "text/x-python",
   "name": "python",
   "nbconvert_exporter": "python",
   "pygments_lexer": "ipython3",
   "version": "3.12.4"
  }
 },
 "nbformat": 4,
 "nbformat_minor": 4
}
